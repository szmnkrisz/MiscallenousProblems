{
 "cells": [
  {
   "cell_type": "markdown",
   "metadata": {},
   "source": [
    "## The Vampire problem\n",
    "On a remote island live n many people. While they sleep at night, the island is visited by a vampire. It chooses one resident of the island completely at random, kills them and eats their blood.\n",
    "\n",
    "So far you can see that after n many nights, everybody will be dead. Luckily, you can save some of the residents (unfortunately, not all of them), because you have a tool.\n",
    "\n",
    "Before each night, you can decide to poison some of the residents. They will die the next morning at latest. If the vampire happens to kill one of them for its late night drink, it dies of the poison, and the other residents can live happily ever after. If it kills a non-poisoned person, life goes on.\n",
    "\n",
    "Your goal is to kill the vampire and maximize the expected value of the survivors. How many people you should poison on the first night?"
   ]
  },
  {
   "cell_type": "code",
   "execution_count": 18,
   "metadata": {},
   "outputs": [],
   "source": [
    "import matplotlib as plt\n",
    "import pandas as pd"
   ]
  },
  {
   "cell_type": "markdown",
   "metadata": {},
   "source": [
    "#### Recursion\n",
    "The key element of the solution. Realize that if you know the optimal strategy, and expected survivors (denoted ES) for small number of residents: 1, 2,..., n-1, then you can compare what happens when you decide to poison 1, 2, 3,... or n-1 residents out of n on the first night. Why? Because on the second night, the vampire is either dead, or you have at most n-1 residents alive, which is already a familiar situation that you can handle optimally."
   ]
  },
  {
   "cell_type": "code",
   "execution_count": 8,
   "metadata": {},
   "outputs": [
    {
     "data": {
      "text/plain": [
       "[1.125]"
      ]
     },
     "execution_count": 8,
     "metadata": {},
     "output_type": "execute_result"
    }
   ],
   "source": [
    "n = 4\n",
    "[(n - k) / n * (k + prev_values[n - k - 2])\n",
    "         for k in range (1, int(n / 2))]"
   ]
  },
  {
   "cell_type": "code",
   "execution_count": 10,
   "metadata": {},
   "outputs": [
    {
     "data": {
      "text/plain": [
       "[0.5, 1]"
      ]
     },
     "execution_count": 10,
     "metadata": {},
     "output_type": "execute_result"
    }
   ],
   "source": [
    "'''function that calculates ES and\n",
    "gives the optimal first-night strategy'''\n",
    "def ChooseKilled(es_for_smaller_ns): \n",
    "#the input vector contains ES for n = 1,2,..,m-1 if we want to get it for m\n",
    "    m = len(es_for_smaller_ns) + 1\n",
    "    opt_poisoned = 0\n",
    "    survivors = 0\n",
    "    #get the ES as a function of our decision on the first night,\n",
    "    #which is to poison k many people\n",
    "    for k in range(1, int(m / 2) + 1):\n",
    "        s = (m - k) / m * (k + es_for_smaller_ns[m - k - 2])\n",
    "        #formula can be deducted from calculations\n",
    "        #easy to see that poisoning more than half the population is never optimal\n",
    "        if survivors < s:\n",
    "            opt_poisoned = k\n",
    "        survivors = max(s, survivors)\n",
    "    return([survivors, opt_poisoned])\n",
    "\n",
    "\n",
    "    "
   ]
  },
  {
   "cell_type": "markdown",
   "metadata": {},
   "source": [
    "We need one thing to start from: if n=1, then that lonely person is going to die regardless."
   ]
  },
  {
   "cell_type": "code",
   "execution_count": 15,
   "metadata": {},
   "outputs": [
    {
     "data": {
      "text/plain": [
       "[0.5, 1]"
      ]
     },
     "execution_count": 15,
     "metadata": {},
     "output_type": "execute_result"
    }
   ],
   "source": [
    "es_for_smaller_ns = [0]    \n",
    "ChooseKilled(es_for_smaller_ns)"
   ]
  },
  {
   "cell_type": "markdown",
   "metadata": {},
   "source": [
    "Now we see that for n=2, it is optimal to poison 1 person, and then the ES is 0.5: indeed, if the poisoned person is the chosen one (with 50% probability), then the other survives."
   ]
  },
  {
   "cell_type": "code",
   "execution_count": 16,
   "metadata": {},
   "outputs": [
    {
     "data": {
      "text/plain": [
       "[0.6666666666666666, 1]"
      ]
     },
     "execution_count": 16,
     "metadata": {},
     "output_type": "execute_result"
    }
   ],
   "source": [
    "es_for_smaller_ns.append(ChooseKilled(es_for_smaller_ns)[0])\n",
    "ChooseKilled(es_for_smaller_ns)"
   ]
  },
  {
   "cell_type": "markdown",
   "metadata": {},
   "source": [
    "Out of 3 people, it is again optimal to poison 1 person, and then the ES is 2/3: indeed, if the poisoned person is the chosen one (with 1/3 probability), then the other 2 survives. If not, then sadly, there remains only one person, and he's going to spend a night knowing that it's the last one :("
   ]
  },
  {
   "cell_type": "markdown",
   "metadata": {},
   "source": [
    "### Let's calculate the optimal strategy and ES for more people"
   ]
  },
  {
   "cell_type": "code",
   "execution_count": 41,
   "metadata": {},
   "outputs": [
    {
     "data": {
      "text/plain": [
       "<matplotlib.axes._subplots.AxesSubplot at 0x20da0785748>"
      ]
     },
     "execution_count": 41,
     "metadata": {},
     "output_type": "execute_result"
    },
    {
     "data": {
      "image/png": "[encoded data removed]",
      "text/plain": [
       "<Figure size 432x288 with 1 Axes>"
      ]
     },
     "metadata": {
      "needs_background": "light"
     },
     "output_type": "display_data"
    }
   ],
   "source": [
    "es_for_smaller_ns = [0]\n",
    "optimal_poisoned = [0]\n",
    "for k in range(20):\n",
    "    es_for_smaller_ns.append(ChooseKilled(es_for_smaller_ns)[0])\n",
    "    optimal_poisoned.append(ChooseKilled(es_for_smaller_ns)[1])\n",
    "    \n",
    "pd.DataFrame(optimal_poisoned).plot(title = \"Optimal strategy: what does it look like?\",\n",
    "        legend = None, yticks = range(5), xticks = range(0, 21, 2))"
   ]
  },
  {
   "cell_type": "code",
   "execution_count": 42,
   "metadata": {},
   "outputs": [
    {
     "data": {
      "text/plain": [
       "<matplotlib.axes._subplots.AxesSubplot at 0x20da1d82470>"
      ]
     },
     "execution_count": 42,
     "metadata": {},
     "output_type": "execute_result"
    },
    {
     "data": {
      "image/png": "[encoded data removed]",
      "text/plain": [
       "<Figure size 432x288 with 1 Axes>"
      ]
     },
     "metadata": {
      "needs_background": "light"
     },
     "output_type": "display_data"
    }
   ],
   "source": [
    "es_for_smaller_ns = [0]\n",
    "optimal_poisoned = [0]\n",
    "for k in range(1000):\n",
    "    es_for_smaller_ns.append(ChooseKilled(es_for_smaller_ns)[0])\n",
    "    optimal_poisoned.append(ChooseKilled(es_for_smaller_ns)[1])\n",
    "    \n",
    "pd.DataFrame(optimal_poisoned).plot(title = \"Optimal strategy up to 1000 people\",\n",
    "        legend = None)"
   ]
  },
  {
   "cell_type": "markdown",
   "metadata": {},
   "source": [
    "We can see that the optimal number of poisoned people on the first night tend to the square root of n. \n",
    "\n",
    "What about the survivors? It looks like asymptotically, half of the population is expected to survive."
   ]
  },
  {
   "cell_type": "code",
   "execution_count": 44,
   "metadata": {},
   "outputs": [
    {
     "data": {
      "text/plain": [
       "<matplotlib.axes._subplots.AxesSubplot at 0x20da1e30fd0>"
      ]
     },
     "execution_count": 44,
     "metadata": {},
     "output_type": "execute_result"
    },
    {
     "data": {
      "image/png": "[encoded data removed]",
      "text/plain": [
       "<Figure size 432x288 with 1 Axes>"
      ]
     },
     "metadata": {
      "needs_background": "light"
     },
     "output_type": "display_data"
    }
   ],
   "source": [
    "pd.DataFrame(es_for_smaller_ns).plot(title = \"Expected survivals from up to 1000 people\",\n",
    "        legend = None)"
   ]
  }
 ],
 "metadata": {
  "kernelspec": {
   "display_name": "Python 3",
   "language": "python",
   "name": "python3"
  },
  "language_info": {
   "codemirror_mode": {
    "name": "ipython",
    "version": 3
   },
   "file_extension": ".py",
   "mimetype": "text/x-python",
   "name": "python",
   "nbconvert_exporter": "python",
   "pygments_lexer": "ipython3",
   "version": "3.6.6"
  }
 },
 "nbformat": 4,
 "nbformat_minor": 2
}
