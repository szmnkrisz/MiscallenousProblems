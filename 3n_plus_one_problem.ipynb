{
 "cells": [
  {
   "cell_type": "markdown",
   "metadata": {},
   "source": [
    "### Longest Collatz Sequence (\"the 3n + 1 problem\") under 1 000 000"
   ]
  },
  {
   "cell_type": "markdown",
   "metadata": {},
   "source": [
    "The following iterative sequence is defined for the set of positive integers:\n",
    "\n",
    "n → n/2 (n is even)\n",
    "n → 3n + 1 (n is odd)\n",
    "\n",
    "Using the rule above and starting with 13, we generate the following sequence:\n",
    "\n",
    "13 → 40 → 20 → 10 → 5 → 16 → 8 → 4 → 2 → 1\n",
    "It can be seen that this sequence (starting at 13 and finishing at 1) contains 10 terms. Although it has not been proved yet (Collatz Problem), it is thought that all starting numbers finish at 1.\n",
    "\n",
    "Which starting number, under one million, produces the longest chain?\n",
    "\n",
    "NOTE: Once the chain starts the terms are allowed to go above one million.\n",
    "\n",
    "\n"
   ]
  },
  {
   "cell_type": "code",
   "execution_count": 1,
   "metadata": {},
   "outputs": [],
   "source": [
    "import numpy as np\n",
    "import time"
   ]
  },
  {
   "cell_type": "code",
   "execution_count": 28,
   "metadata": {},
   "outputs": [],
   "source": [
    "def CollatzLength(n):\n",
    "    lengths = [0, 1]\n",
    "    for i in range(2, n):\n",
    "        i_copy = i\n",
    "        steps = 0\n",
    "        while i_copy >= i:\n",
    "            if i_copy % 2 == 0:\n",
    "                i_copy = i_copy / 2\n",
    "            else:\n",
    "                i_copy = 3 * i_copy + 1\n",
    "            steps = steps + 1\n",
    "        i_copy = int(i_copy)\n",
    "        steps = steps + lengths[i_copy]\n",
    "        lengths.append(steps)\n",
    "    return(lengths)"
   ]
  },
  {
   "cell_type": "code",
   "execution_count": 29,
   "metadata": {},
   "outputs": [
    {
     "name": "stdout",
     "output_type": "stream",
     "text": [
      "837799\n",
      "Estimated runtime: 1.3417949676513672 seconds \n"
     ]
    }
   ],
   "source": [
    "start_time = time.time()\n",
    "print(np.argmax(CollatzLength(1000000)))\n",
    "print(\"Estimated runtime: %s seconds \" % (time.time() - start_time))"
   ]
  }
 ],
 "metadata": {
  "kernelspec": {
   "display_name": "Python 3",
   "language": "python",
   "name": "python3"
  },
  "language_info": {
   "codemirror_mode": {
    "name": "ipython",
    "version": 3
   },
   "file_extension": ".py",
   "mimetype": "text/x-python",
   "name": "python",
   "nbconvert_exporter": "python",
   "pygments_lexer": "ipython3",
   "version": "3.6.6"
  }
 },
 "nbformat": 4,
 "nbformat_minor": 2
}
