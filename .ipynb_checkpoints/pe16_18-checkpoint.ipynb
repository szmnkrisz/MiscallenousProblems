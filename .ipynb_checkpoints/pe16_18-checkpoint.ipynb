{
 "cells": [
  {
   "cell_type": "markdown",
   "metadata": {},
   "source": [
    "## Problem 16"
   ]
  },
  {
   "cell_type": "markdown",
   "metadata": {},
   "source": [
    "2^15 = 32768 and the sum of its digits is 3 + 2 + 7 + 6 + 8 = 26.\n",
    "\n",
    "What is the sum of the digits of the number 2^1000?"
   ]
  },
  {
   "cell_type": "code",
   "execution_count": 4,
   "metadata": {},
   "outputs": [
    {
     "data": {
      "text/plain": [
       "1366"
      ]
     },
     "execution_count": 4,
     "metadata": {},
     "output_type": "execute_result"
    }
   ],
   "source": [
    "sum([int(i) for i in str(2 ** 1000)])"
   ]
  },
  {
   "cell_type": "markdown",
   "metadata": {},
   "source": [
    "## Problem 17"
   ]
  },
  {
   "cell_type": "markdown",
   "metadata": {},
   "source": [
    "If the numbers 1 to 5 are written out in words: one, two, three, four, five, then there are 3 + 3 + 5 + 4 + 4 = 19 letters used in total.\n",
    "\n",
    "If all the numbers from 1 to 1000 (one thousand) inclusive were written out in words, how many letters would be used?\n",
    "\n",
    "\n",
    "NOTE: Do not count spaces or hyphens. For example, 342 (three hundred and forty-two) contains 23 letters and 115 (one hundred and fifteen) contains 20 letters. The use of \"and\" when writing out numbers is in compliance with British usage."
   ]
  },
  {
   "cell_type": "code",
   "execution_count": 51,
   "metadata": {},
   "outputs": [],
   "source": [
    "written_nums_1 = [\"\", \"one\", \"two\", \"three\", \"four\", \"five\", \"six\", \n",
    "                \"seven\", \"eight\", \"nine\", \"ten\", \"eleven\", \"twelve\",\n",
    "               \"thirteen\", \"fourteen\", \"fifteen\", \"sixteen\", \"seventeen\",\n",
    "               \"eighteen\", \"nineteen\"]\n",
    "written_nums_2 = [\"twenty\", \"thirty\", \"forty\", \"fifty\", \"sixty\", \"seventy\",\n",
    "                 \"eighty\", \"ninety\"]\n",
    "def TwoDigitsToLetters(x): #x integer, at least 0\n",
    "    if x < 20:\n",
    "        return written_nums_1[x]\n",
    "    if x < 100 and x >= 20:\n",
    "        return written_nums_2[(x - 20)//10] + written_nums_1[x % 10]\n",
    "TwoDigitsToLetters(42)\n",
    "def FourDigitsToLetters(x):\n",
    "    if x < 100:\n",
    "        return TwoDigitsToLetters(x)\n",
    "    else: \n",
    "        x_begin = x//100\n",
    "        x_end = x % 100\n",
    "        if x_begin < 10:\n",
    "            if x_end != 0:\n",
    "                return written_nums_1[x_begin] + 'hundredand' + str(TwoDigitsToLetters(x_end))\n",
    "            else:\n",
    "                return written_nums_1[x_begin] + 'hundred'"
   ]
  },
  {
   "cell_type": "code",
   "execution_count": 52,
   "metadata": {},
   "outputs": [
    {
     "data": {
      "text/plain": [
       "21124"
      ]
     },
     "execution_count": 52,
     "metadata": {},
     "output_type": "execute_result"
    }
   ],
   "source": [
    "sum([len(FourDigitsToLetters(i)) for i in range(1, 1000)]) + len(\"onethousand\")"
   ]
  }
 ],
 "metadata": {
  "kernelspec": {
   "display_name": "Python 3",
   "language": "python",
   "name": "python3"
  },
  "language_info": {
   "codemirror_mode": {
    "name": "ipython",
    "version": 3
   },
   "file_extension": ".py",
   "mimetype": "text/x-python",
   "name": "python",
   "nbconvert_exporter": "python",
   "pygments_lexer": "ipython3",
   "version": "3.6.6"
  }
 },
 "nbformat": 4,
 "nbformat_minor": 2
}
